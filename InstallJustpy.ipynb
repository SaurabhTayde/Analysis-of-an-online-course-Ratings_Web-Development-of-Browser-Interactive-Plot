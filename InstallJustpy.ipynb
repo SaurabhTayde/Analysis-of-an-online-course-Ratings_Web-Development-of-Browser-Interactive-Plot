{
 "cells": [
  {
   "cell_type": "code",
   "execution_count": 2,
   "id": "7ad6b2ec",
   "metadata": {},
   "outputs": [
    {
     "name": "stdout",
     "output_type": "stream",
     "text": [
      "Requirement already satisfied: justpy in /home/saurabhtayde/anaconda3/lib/python3.8/site-packages (0.2.2)\n",
      "Requirement already satisfied: addict>=2.2.1 in /home/saurabhtayde/anaconda3/lib/python3.8/site-packages (from justpy) (2.4.0)\n",
      "Requirement already satisfied: websockets in /home/saurabhtayde/anaconda3/lib/python3.8/site-packages (from justpy) (10.1)\n",
      "Requirement already satisfied: wheel in /home/saurabhtayde/anaconda3/lib/python3.8/site-packages (from justpy) (0.36.2)\n",
      "Requirement already satisfied: httpx>=0.11.0 in /home/saurabhtayde/anaconda3/lib/python3.8/site-packages (from justpy) (0.21.1)\n",
      "Requirement already satisfied: jinja2>=2.10.1 in /home/saurabhtayde/anaconda3/lib/python3.8/site-packages (from justpy) (2.11.3)\n",
      "Requirement already satisfied: uvicorn>=0.7.1 in /home/saurabhtayde/anaconda3/lib/python3.8/site-packages (from justpy) (0.15.0)\n",
      "Requirement already satisfied: aiofiles in /home/saurabhtayde/anaconda3/lib/python3.8/site-packages (from justpy) (0.8.0)\n",
      "Requirement already satisfied: itsdangerous>=1.1.0 in /home/saurabhtayde/anaconda3/lib/python3.8/site-packages (from justpy) (1.1.0)\n",
      "Requirement already satisfied: demjson>=2.2.4 in /home/saurabhtayde/anaconda3/lib/python3.8/site-packages (from justpy) (2.2.4)\n",
      "Requirement already satisfied: starlette>=0.12.0 in /home/saurabhtayde/anaconda3/lib/python3.8/site-packages (from justpy) (0.17.1)\n",
      "Requirement already satisfied: twine in /home/saurabhtayde/anaconda3/lib/python3.8/site-packages (from justpy) (3.7.0)\n",
      "Requirement already satisfied: rfc3986[idna2008]<2,>=1.3 in /home/saurabhtayde/anaconda3/lib/python3.8/site-packages (from httpx>=0.11.0->justpy) (1.5.0)\n",
      "Requirement already satisfied: certifi in /home/saurabhtayde/anaconda3/lib/python3.8/site-packages (from httpx>=0.11.0->justpy) (2020.12.5)\n",
      "Requirement already satisfied: charset-normalizer in /home/saurabhtayde/anaconda3/lib/python3.8/site-packages (from httpx>=0.11.0->justpy) (2.0.9)\n",
      "Requirement already satisfied: sniffio in /home/saurabhtayde/anaconda3/lib/python3.8/site-packages (from httpx>=0.11.0->justpy) (1.2.0)\n",
      "Requirement already satisfied: httpcore<0.15.0,>=0.14.0 in /home/saurabhtayde/anaconda3/lib/python3.8/site-packages (from httpx>=0.11.0->justpy) (0.14.3)\n",
      "Requirement already satisfied: h11<0.13,>=0.11 in /home/saurabhtayde/anaconda3/lib/python3.8/site-packages (from httpcore<0.15.0,>=0.14.0->httpx>=0.11.0->justpy) (0.12.0)\n",
      "Requirement already satisfied: anyio==3.* in /home/saurabhtayde/anaconda3/lib/python3.8/site-packages (from httpcore<0.15.0,>=0.14.0->httpx>=0.11.0->justpy) (3.4.0)\n",
      "Requirement already satisfied: idna>=2.8 in /home/saurabhtayde/anaconda3/lib/python3.8/site-packages (from anyio==3.*->httpcore<0.15.0,>=0.14.0->httpx>=0.11.0->justpy) (2.10)\n",
      "Requirement already satisfied: MarkupSafe>=0.23 in /home/saurabhtayde/anaconda3/lib/python3.8/site-packages (from jinja2>=2.10.1->justpy) (1.1.1)\n",
      "Requirement already satisfied: click>=7.0 in /home/saurabhtayde/anaconda3/lib/python3.8/site-packages (from uvicorn>=0.7.1->justpy) (7.1.2)\n",
      "Requirement already satisfied: asgiref>=3.4.0 in /home/saurabhtayde/anaconda3/lib/python3.8/site-packages (from uvicorn>=0.7.1->justpy) (3.4.1)\n",
      "Requirement already satisfied: pkginfo>=1.8.1 in /home/saurabhtayde/anaconda3/lib/python3.8/site-packages (from twine->justpy) (1.8.2)\n",
      "Requirement already satisfied: colorama>=0.4.3 in /home/saurabhtayde/anaconda3/lib/python3.8/site-packages (from twine->justpy) (0.4.4)\n",
      "Requirement already satisfied: keyring>=15.1 in /home/saurabhtayde/anaconda3/lib/python3.8/site-packages (from twine->justpy) (22.3.0)\n",
      "Requirement already satisfied: requests>=2.20 in /home/saurabhtayde/anaconda3/lib/python3.8/site-packages (from twine->justpy) (2.23.0)\n",
      "Requirement already satisfied: requests-toolbelt!=0.9.0,>=0.8.0 in /home/saurabhtayde/anaconda3/lib/python3.8/site-packages (from twine->justpy) (0.9.1)\n",
      "Requirement already satisfied: tqdm>=4.14 in /home/saurabhtayde/anaconda3/lib/python3.8/site-packages (from twine->justpy) (4.56.0)\n",
      "Requirement already satisfied: importlib-metadata>=3.6 in /home/saurabhtayde/anaconda3/lib/python3.8/site-packages (from twine->justpy) (3.10.0)\n",
      "Requirement already satisfied: readme-renderer>=21.0 in /home/saurabhtayde/anaconda3/lib/python3.8/site-packages (from twine->justpy) (30.0)\n",
      "Requirement already satisfied: zipp>=0.5 in /home/saurabhtayde/anaconda3/lib/python3.8/site-packages (from importlib-metadata>=3.6->twine->justpy) (3.4.1)\n",
      "Requirement already satisfied: jeepney>=0.4.2 in /home/saurabhtayde/anaconda3/lib/python3.8/site-packages (from keyring>=15.1->twine->justpy) (0.6.0)\n",
      "Requirement already satisfied: SecretStorage>=3.2 in /home/saurabhtayde/anaconda3/lib/python3.8/site-packages (from keyring>=15.1->twine->justpy) (3.3.1)\n",
      "Requirement already satisfied: bleach>=2.1.0 in /home/saurabhtayde/anaconda3/lib/python3.8/site-packages (from readme-renderer>=21.0->twine->justpy) (3.3.0)\n",
      "Requirement already satisfied: docutils>=0.13.1 in /home/saurabhtayde/anaconda3/lib/python3.8/site-packages (from readme-renderer>=21.0->twine->justpy) (0.17.1)\n",
      "Requirement already satisfied: Pygments>=2.5.1 in /home/saurabhtayde/anaconda3/lib/python3.8/site-packages (from readme-renderer>=21.0->twine->justpy) (2.8.1)\n",
      "Requirement already satisfied: webencodings in /home/saurabhtayde/anaconda3/lib/python3.8/site-packages (from bleach>=2.1.0->readme-renderer>=21.0->twine->justpy) (0.5.1)\n",
      "Requirement already satisfied: six>=1.9.0 in /home/saurabhtayde/anaconda3/lib/python3.8/site-packages (from bleach>=2.1.0->readme-renderer>=21.0->twine->justpy) (1.15.0)\n",
      "Requirement already satisfied: packaging in /home/saurabhtayde/anaconda3/lib/python3.8/site-packages (from bleach>=2.1.0->readme-renderer>=21.0->twine->justpy) (20.9)\n",
      "Requirement already satisfied: urllib3!=1.25.0,!=1.25.1,<1.26,>=1.21.1 in /home/saurabhtayde/anaconda3/lib/python3.8/site-packages (from requests>=2.20->twine->justpy) (1.25.11)\n",
      "Requirement already satisfied: chardet<4,>=3.0.2 in /home/saurabhtayde/anaconda3/lib/python3.8/site-packages (from requests>=2.20->twine->justpy) (3.0.4)\n",
      "Requirement already satisfied: cryptography>=2.0 in /home/saurabhtayde/anaconda3/lib/python3.8/site-packages (from SecretStorage>=3.2->keyring>=15.1->twine->justpy) (3.4.7)\n",
      "Requirement already satisfied: cffi>=1.12 in /home/saurabhtayde/anaconda3/lib/python3.8/site-packages (from cryptography>=2.0->SecretStorage>=3.2->keyring>=15.1->twine->justpy) (1.14.5)\n",
      "Requirement already satisfied: pycparser in /home/saurabhtayde/anaconda3/lib/python3.8/site-packages (from cffi>=1.12->cryptography>=2.0->SecretStorage>=3.2->keyring>=15.1->twine->justpy) (2.20)\n",
      "Requirement already satisfied: pyparsing>=2.0.2 in /home/saurabhtayde/anaconda3/lib/python3.8/site-packages (from packaging->bleach>=2.1.0->readme-renderer>=21.0->twine->justpy) (2.4.7)\n",
      "Note: you may need to restart the kernel to use updated packages.\n"
     ]
    }
   ],
   "source": [
    "pip install justpy"
   ]
  },
  {
   "cell_type": "code",
   "execution_count": 4,
   "id": "7a3b801c",
   "metadata": {},
   "outputs": [],
   "source": [
    "import justpy as jp"
   ]
  }
 ],
 "metadata": {
  "kernelspec": {
   "display_name": "Python 3",
   "language": "python",
   "name": "python3"
  },
  "language_info": {
   "codemirror_mode": {
    "name": "ipython",
    "version": 3
   },
   "file_extension": ".py",
   "mimetype": "text/x-python",
   "name": "python",
   "nbconvert_exporter": "python",
   "pygments_lexer": "ipython3",
   "version": "3.8.8"
  }
 },
 "nbformat": 4,
 "nbformat_minor": 5
}
